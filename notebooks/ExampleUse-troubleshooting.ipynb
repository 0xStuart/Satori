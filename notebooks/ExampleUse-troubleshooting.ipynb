{
 "cells": [
  {
   "cell_type": "markdown",
   "id": "f4492c1d",
   "metadata": {},
   "source": [
    "# Example\n",
    "\n",
    "At this point we're overloading Jupyter notebook as our front end since I'm the only one using this app"
   ]
  },
  {
   "cell_type": "code",
   "execution_count": 1,
   "id": "829c3096",
   "metadata": {},
   "outputs": [],
   "source": [
    "from itertools import product\n",
    "from functools import partial\n",
    "import pandas as pd\n",
    "import satori"
   ]
  },
  {
   "cell_type": "code",
   "execution_count": 2,
   "id": "01b76530",
   "metadata": {},
   "outputs": [],
   "source": [
    "try:\n",
    "    df = pd.read_csv(\"./example/EUR=X-simpleCleaned.csv\")\n",
    "except:\n",
    "    # example of data:\n",
    "    df = pd.DataFrame({\n",
    "        'High': [\n",
    "            0.837240,\n",
    "            0.837100,\n",
    "            0.828020,\n",
    "            0.830290,\n",
    "            0.828780,], \n",
    "        'Low': [\n",
    "            0.830560,\n",
    "            0.825830,\n",
    "            0.824400,\n",
    "            0.823450,\n",
    "            0.820280,],\n",
    "        'Close': [\n",
    "            0.835770,\n",
    "            0.827200,\n",
    "            0.824880,\n",
    "            0.827750,\n",
    "            0.820550,],})\n",
    "past = df.iloc[:round(df.shape[0]*.8)]\n",
    "future = df.iloc[round(df.shape[0]*.8):]"
   ]
  },
  {
   "cell_type": "code",
   "execution_count": 3,
   "id": "4f946091",
   "metadata": {},
   "outputs": [],
   "source": [
    "def getNewData() -> pd.DataFrame:\n",
    "    ''' incrementally returns mock future data to simulate the passage of time '''\n",
    "    for i in future.index:\n",
    "        yield pd.DataFrame(future.loc[i]).T"
   ]
  },
  {
   "cell_type": "code",
   "execution_count": 4,
   "id": "5ca8361c",
   "metadata": {},
   "outputs": [],
   "source": [
    "data = satori.DataManager(\n",
    "        data=past,\n",
    "        getData=partial(next, getNewData()),\n",
    "        validateData=satori.DataManager.defaultValidateData,\n",
    "        appendData=satori.DataManager.defaultAppend)"
   ]
  },
  {
   "cell_type": "code",
   "execution_count": 5,
   "id": "aa2ebe0d",
   "metadata": {},
   "outputs": [],
   "source": [
    "def generateCombinedFeature(df:pd.DataFrame=None, columns:'list(str)'=None, prefix='Diff') -> pd.DataFrame:\n",
    "    '''\n",
    "    example of making a feature out of data you know ahead of time.\n",
    "    most of the time you don't know what kinds of data you'll get...\n",
    "    '''\n",
    "    def name() -> str:\n",
    "        return f'{prefix}{columns[0]}{columns[1]}'\n",
    "\n",
    "    if df is None:\n",
    "        return name()\n",
    "\n",
    "    columns = columns or []\n",
    "    feature = df.loc[:, columns[0]] - df.loc[:, columns[1]]\n",
    "    feature.name = name()\n",
    "    return feature"
   ]
  },
  {
   "cell_type": "code",
   "execution_count": 6,
   "id": "9633a1d9",
   "metadata": {},
   "outputs": [],
   "source": [
    "kwargs = {\n",
    "    'hyperParameters': [\n",
    "        satori.HyperParameter(\n",
    "            name='n_estimators',\n",
    "            value=300,\n",
    "            kind=int,\n",
    "            limit=100,\n",
    "            minimum=200,\n",
    "            maximum=5000),\n",
    "        satori.HyperParameter(\n",
    "            name='learning_rate',\n",
    "            value=0.3,\n",
    "            kind=float,\n",
    "            limit=.05,\n",
    "            minimum=.01,\n",
    "            maximum=.1),\n",
    "        satori.HyperParameter(\n",
    "            name='max_depth',\n",
    "            value=6,\n",
    "            kind=int,\n",
    "            limit=1,\n",
    "            minimum=10,\n",
    "            maximum=2),],\n",
    "    'metrics':  {\n",
    "        # raw data features\n",
    "        'raw': satori.ModelManager.rawDataMetric,\n",
    "        # daily percentage change, 1 day ago, 2 days ago, 3 days ago... \n",
    "        **{f'Daily{i}': partial(satori.ModelManager.dailyPercentChangeMetric, yesterday=i) for i in list(range(1, 31))},\n",
    "        # rolling period transformation percentage change, max of the last 7 days, etc... \n",
    "        **{f'Rolling{i}{tx[0:3]}': partial(satori.ModelManager.rollingPercentChangeMetric, window=i, transformation=tx)\n",
    "            for tx, i in product('sum() max() min() mean() median() std()'.split(), list(range(2, 21)))},\n",
    "        # rolling period transformation percentage change, max of the last 50 or 70 days, etc... \n",
    "        **{f'Rolling{i}{tx[0:3]}': partial(satori.ModelManager.rollingPercentChangeMetric, window=i, transformation=tx)\n",
    "            for tx, i in product('sum() max() min() mean() median() std()'.split(), list(range(22, 90, 7)))}},\n",
    "    'features': {'DiffHighLow': partial(generateCombinedFeature, columns=['High', 'Low'])},\n",
    "    'chosenFeatures': ['RawClose', 'RawHigh', 'RawLow', 'DiffHighLow'],\n",
    "    'override': True}"
   ]
  },
  {
   "cell_type": "code",
   "execution_count": 7,
   "id": "8ed310a2",
   "metadata": {},
   "outputs": [],
   "source": [
    "modelHigh = satori.ModelManager(\n",
    "    modelPath='modelHigh.joblib',\n",
    "    targetKey='High',\n",
    "    pinnedFeatures=['DiffHighLow'],\n",
    "    **kwargs)"
   ]
  },
  {
   "cell_type": "code",
   "execution_count": 8,
   "id": "32e0581d",
   "metadata": {},
   "outputs": [],
   "source": [
    "modelLow = satori.ModelManager(\n",
    "    modelPath='modelLow.joblib',\n",
    "    targetKey='Low',\n",
    "    **kwargs)"
   ]
  },
  {
   "cell_type": "code",
   "execution_count": 9,
   "id": "744a4552",
   "metadata": {},
   "outputs": [],
   "source": [
    "modelClose = satori.ModelManager(\n",
    "    modelPath='modelClose.joblib',\n",
    "    targetKey='Close',\n",
    "    **kwargs)"
   ]
  },
  {
   "cell_type": "code",
   "execution_count": 10,
   "id": "f8a557f8",
   "metadata": {},
   "outputs": [],
   "source": [
    "learner = satori.Engine(\n",
    "    view=satori.JupyterView(points=8),\n",
    "    data=data,\n",
    "    models={modelHigh, modelLow, modelClose})"
   ]
  },
  {
   "cell_type": "code",
   "execution_count": 11,
   "id": "bd82df25",
   "metadata": {
    "scrolled": false
   },
   "outputs": [],
   "source": [
    "#learner.run()"
   ]
  },
  {
   "cell_type": "code",
   "execution_count": 12,
   "id": "86391e18",
   "metadata": {},
   "outputs": [
    {
     "data": {
      "text/html": [
       "<div>\n",
       "<style scoped>\n",
       "    .dataframe tbody tr th:only-of-type {\n",
       "        vertical-align: middle;\n",
       "    }\n",
       "\n",
       "    .dataframe tbody tr th {\n",
       "        vertical-align: top;\n",
       "    }\n",
       "\n",
       "    .dataframe thead th {\n",
       "        text-align: right;\n",
       "    }\n",
       "</style>\n",
       "<table border=\"1\" class=\"dataframe\">\n",
       "  <thead>\n",
       "    <tr style=\"text-align: right;\">\n",
       "      <th></th>\n",
       "      <th>High</th>\n",
       "      <th>Low</th>\n",
       "      <th>Close</th>\n",
       "    </tr>\n",
       "  </thead>\n",
       "  <tbody>\n",
       "    <tr>\n",
       "      <th>0</th>\n",
       "      <td>0.83724</td>\n",
       "      <td>0.83056</td>\n",
       "      <td>0.83577</td>\n",
       "    </tr>\n",
       "    <tr>\n",
       "      <th>1</th>\n",
       "      <td>0.83710</td>\n",
       "      <td>0.82583</td>\n",
       "      <td>0.82720</td>\n",
       "    </tr>\n",
       "    <tr>\n",
       "      <th>2</th>\n",
       "      <td>0.82802</td>\n",
       "      <td>0.82440</td>\n",
       "      <td>0.82488</td>\n",
       "    </tr>\n",
       "    <tr>\n",
       "      <th>3</th>\n",
       "      <td>0.83029</td>\n",
       "      <td>0.82345</td>\n",
       "      <td>0.82775</td>\n",
       "    </tr>\n",
       "    <tr>\n",
       "      <th>4</th>\n",
       "      <td>0.82878</td>\n",
       "      <td>0.82028</td>\n",
       "      <td>0.82055</td>\n",
       "    </tr>\n",
       "    <tr>\n",
       "      <th>...</th>\n",
       "      <td>...</td>\n",
       "      <td>...</td>\n",
       "      <td>...</td>\n",
       "    </tr>\n",
       "    <tr>\n",
       "      <th>3671</th>\n",
       "      <td>0.80568</td>\n",
       "      <td>0.79885</td>\n",
       "      <td>0.79936</td>\n",
       "    </tr>\n",
       "    <tr>\n",
       "      <th>3672</th>\n",
       "      <td>0.80635</td>\n",
       "      <td>0.80140</td>\n",
       "      <td>0.80341</td>\n",
       "    </tr>\n",
       "    <tr>\n",
       "      <th>3673</th>\n",
       "      <td>0.81194</td>\n",
       "      <td>0.80460</td>\n",
       "      <td>0.80855</td>\n",
       "    </tr>\n",
       "    <tr>\n",
       "      <th>3674</th>\n",
       "      <td>0.81443</td>\n",
       "      <td>0.80624</td>\n",
       "      <td>0.80767</td>\n",
       "    </tr>\n",
       "    <tr>\n",
       "      <th>3675</th>\n",
       "      <td>0.81856</td>\n",
       "      <td>0.81337</td>\n",
       "      <td>0.81512</td>\n",
       "    </tr>\n",
       "  </tbody>\n",
       "</table>\n",
       "<p>3676 rows × 3 columns</p>\n",
       "</div>"
      ],
      "text/plain": [
       "         High      Low    Close\n",
       "0     0.83724  0.83056  0.83577\n",
       "1     0.83710  0.82583  0.82720\n",
       "2     0.82802  0.82440  0.82488\n",
       "3     0.83029  0.82345  0.82775\n",
       "4     0.82878  0.82028  0.82055\n",
       "...       ...      ...      ...\n",
       "3671  0.80568  0.79885  0.79936\n",
       "3672  0.80635  0.80140  0.80341\n",
       "3673  0.81194  0.80460  0.80855\n",
       "3674  0.81443  0.80624  0.80767\n",
       "3675  0.81856  0.81337  0.81512\n",
       "\n",
       "[3676 rows x 3 columns]"
      ]
     },
     "execution_count": 12,
     "metadata": {},
     "output_type": "execute_result"
    }
   ],
   "source": [
    "learner.data.data"
   ]
  },
  {
   "cell_type": "code",
   "execution_count": 13,
   "id": "fc8ddb12",
   "metadata": {},
   "outputs": [
    {
     "data": {
      "text/html": [
       "<div>\n",
       "<style scoped>\n",
       "    .dataframe tbody tr th:only-of-type {\n",
       "        vertical-align: middle;\n",
       "    }\n",
       "\n",
       "    .dataframe tbody tr th {\n",
       "        vertical-align: top;\n",
       "    }\n",
       "\n",
       "    .dataframe thead th {\n",
       "        text-align: right;\n",
       "    }\n",
       "</style>\n",
       "<table border=\"1\" class=\"dataframe\">\n",
       "  <thead>\n",
       "    <tr style=\"text-align: right;\">\n",
       "      <th></th>\n",
       "      <th>High</th>\n",
       "      <th>Low</th>\n",
       "      <th>Close</th>\n",
       "    </tr>\n",
       "  </thead>\n",
       "  <tbody>\n",
       "    <tr>\n",
       "      <th>0</th>\n",
       "      <td>0.83724</td>\n",
       "      <td>0.83056</td>\n",
       "      <td>0.83577</td>\n",
       "    </tr>\n",
       "    <tr>\n",
       "      <th>1</th>\n",
       "      <td>0.83710</td>\n",
       "      <td>0.82583</td>\n",
       "      <td>0.82720</td>\n",
       "    </tr>\n",
       "    <tr>\n",
       "      <th>2</th>\n",
       "      <td>0.82802</td>\n",
       "      <td>0.82440</td>\n",
       "      <td>0.82488</td>\n",
       "    </tr>\n",
       "    <tr>\n",
       "      <th>3</th>\n",
       "      <td>0.83029</td>\n",
       "      <td>0.82345</td>\n",
       "      <td>0.82775</td>\n",
       "    </tr>\n",
       "    <tr>\n",
       "      <th>4</th>\n",
       "      <td>0.82878</td>\n",
       "      <td>0.82028</td>\n",
       "      <td>0.82055</td>\n",
       "    </tr>\n",
       "    <tr>\n",
       "      <th>...</th>\n",
       "      <td>...</td>\n",
       "      <td>...</td>\n",
       "      <td>...</td>\n",
       "    </tr>\n",
       "    <tr>\n",
       "      <th>3671</th>\n",
       "      <td>0.80568</td>\n",
       "      <td>0.79885</td>\n",
       "      <td>0.79936</td>\n",
       "    </tr>\n",
       "    <tr>\n",
       "      <th>3672</th>\n",
       "      <td>0.80635</td>\n",
       "      <td>0.80140</td>\n",
       "      <td>0.80341</td>\n",
       "    </tr>\n",
       "    <tr>\n",
       "      <th>3673</th>\n",
       "      <td>0.81194</td>\n",
       "      <td>0.80460</td>\n",
       "      <td>0.80855</td>\n",
       "    </tr>\n",
       "    <tr>\n",
       "      <th>3674</th>\n",
       "      <td>0.81443</td>\n",
       "      <td>0.80624</td>\n",
       "      <td>0.80767</td>\n",
       "    </tr>\n",
       "    <tr>\n",
       "      <th>3675</th>\n",
       "      <td>0.81856</td>\n",
       "      <td>0.81337</td>\n",
       "      <td>0.81512</td>\n",
       "    </tr>\n",
       "  </tbody>\n",
       "</table>\n",
       "<p>3676 rows × 3 columns</p>\n",
       "</div>"
      ],
      "text/plain": [
       "         High      Low    Close\n",
       "0     0.83724  0.83056  0.83577\n",
       "1     0.83710  0.82583  0.82720\n",
       "2     0.82802  0.82440  0.82488\n",
       "3     0.83029  0.82345  0.82775\n",
       "4     0.82878  0.82028  0.82055\n",
       "...       ...      ...      ...\n",
       "3671  0.80568  0.79885  0.79936\n",
       "3672  0.80635  0.80140  0.80341\n",
       "3673  0.81194  0.80460  0.80855\n",
       "3674  0.81443  0.80624  0.80767\n",
       "3675  0.81856  0.81337  0.81512\n",
       "\n",
       "[3676 rows x 3 columns]"
      ]
     },
     "execution_count": 13,
     "metadata": {},
     "output_type": "execute_result"
    }
   ],
   "source": [
    "list(learner.models)[0].data"
   ]
  },
  {
   "cell_type": "code",
   "execution_count": 14,
   "id": "e9353d7a",
   "metadata": {},
   "outputs": [],
   "source": [
    "learner.data.runPublisher(learner.models)"
   ]
  },
  {
   "cell_type": "code",
   "execution_count": 15,
   "id": "ef2e47f3",
   "metadata": {},
   "outputs": [],
   "source": [
    "import time\n",
    "import threading\n",
    "threads = {}"
   ]
  },
  {
   "cell_type": "code",
   "execution_count": 16,
   "id": "c2a59d07",
   "metadata": {},
   "outputs": [],
   "source": [
    "def subscriber():\n",
    "    '''\n",
    "    listens for external updates on subscriptions - \n",
    "    turn this into a steam rather than a loop - \n",
    "    triggered from flask app.\n",
    "    this should probably be broken out into a service\n",
    "    that subscribes and a service that listens...\n",
    "    should be on demand\n",
    "    '''\n",
    "    while True:\n",
    "        time.sleep(.1)\n",
    "        learner.data.runSubscriber(learner.models)"
   ]
  },
  {
   "cell_type": "code",
   "execution_count": 17,
   "id": "04e28ce1",
   "metadata": {},
   "outputs": [],
   "source": [
    "def scholar():\n",
    "    ''' always looks for external data and compiles it '''\n",
    "    while True:\n",
    "        learner.data.runScholar(learner.models)"
   ]
  },
  {
   "cell_type": "code",
   "execution_count": 18,
   "id": "21347a23",
   "metadata": {},
   "outputs": [],
   "source": [
    "threads['subscriber'] = threading.Thread(target=subscriber, daemon=True)"
   ]
  },
  {
   "cell_type": "code",
   "execution_count": 19,
   "id": "b4a58857",
   "metadata": {},
   "outputs": [],
   "source": [
    "threads['scholar'] = threading.Thread(target=scholar, daemon=True)"
   ]
  },
  {
   "cell_type": "code",
   "execution_count": 20,
   "id": "f3e9c4c3",
   "metadata": {},
   "outputs": [],
   "source": [
    "def predictor(model:satori.ModelManager):\n",
    "    ''' produces predictions on demand '''\n",
    "    model.runPredictor(learner.data)\n",
    "\n",
    "def sync(model:satori.ModelManager):\n",
    "    ''' sync available inputs found and compiled by scholar on demand '''\n",
    "    model.syncAvailableInputs(learner.data)\n",
    "\n",
    "def explorer(model:satori.ModelManager):\n",
    "    ''' always looks for a better model '''\n",
    "    while True:\n",
    "        model.runExplorer()"
   ]
  },
  {
   "cell_type": "code",
   "execution_count": 21,
   "id": "3ac6647c",
   "metadata": {},
   "outputs": [],
   "source": [
    "def watcher(model:satori.ModelManager):\n",
    "    if learner.view:\n",
    "        learner.view.listen(model)"
   ]
  },
  {
   "cell_type": "code",
   "execution_count": 22,
   "id": "deb1beac",
   "metadata": {},
   "outputs": [
    {
     "name": "stdout",
     "output_type": "stream",
     "text": [
      "built stable\n",
      "built stable\n",
      "built stable\n"
     ]
    }
   ],
   "source": [
    "for model in learner.models:\n",
    "    model.buildStable() # we have to run this once for each model to complete its initialization\n",
    "    print('built stable')"
   ]
  },
  {
   "cell_type": "code",
   "execution_count": 23,
   "id": "9db3a992",
   "metadata": {},
   "outputs": [
    {
     "ename": "NameError",
     "evalue": "name 'self' is not defined",
     "output_type": "error",
     "traceback": [
      "\u001b[1;31m---------------------------------------------------------------------------\u001b[0m",
      "\u001b[1;31mNameError\u001b[0m                                 Traceback (most recent call last)",
      "\u001b[1;32m<ipython-input-23-ec9908570142>\u001b[0m in \u001b[0;36m<module>\u001b[1;34m\u001b[0m\n\u001b[1;32m----> 1\u001b[1;33m \u001b[1;32mfor\u001b[0m \u001b[0mmodel\u001b[0m \u001b[1;32min\u001b[0m \u001b[0mself\u001b[0m\u001b[1;33m.\u001b[0m\u001b[0mmodels\u001b[0m\u001b[1;33m:\u001b[0m\u001b[1;33m\u001b[0m\u001b[1;33m\u001b[0m\u001b[0m\n\u001b[0m\u001b[0;32m      2\u001b[0m     \u001b[0mwatcher\u001b[0m\u001b[1;33m(\u001b[0m\u001b[0mmodel\u001b[0m\u001b[1;33m)\u001b[0m\u001b[1;33m\u001b[0m\u001b[1;33m\u001b[0m\u001b[0m\n\u001b[0;32m      3\u001b[0m     \u001b[0mprint\u001b[0m\u001b[1;33m(\u001b[0m\u001b[1;34m'wathing'\u001b[0m\u001b[1;33m)\u001b[0m\u001b[1;33m\u001b[0m\u001b[1;33m\u001b[0m\u001b[0m\n",
      "\u001b[1;31mNameError\u001b[0m: name 'self' is not defined"
     ]
    }
   ],
   "source": [
    "for model in self.models:\n",
    "    watcher(model)\n",
    "    print('wathing')"
   ]
  },
  {
   "cell_type": "code",
   "execution_count": null,
   "id": "7ead4473",
   "metadata": {},
   "outputs": [],
   "source": [
    "for model in learner.models:\n",
    "    predictor(model)\n",
    "    print('ran predictor(model)', model.targetKey)    "
   ]
  },
  {
   "cell_type": "code",
   "execution_count": null,
   "id": "e6d173cd",
   "metadata": {},
   "outputs": [],
   "source": [
    "for model in learner.models:\n",
    "    sync(model)\n",
    "    print('ran sync(model)', model.targetKey)"
   ]
  },
  {
   "cell_type": "code",
   "execution_count": null,
   "id": "c8d40c33",
   "metadata": {},
   "outputs": [],
   "source": [
    "for model in learner.models:\n",
    "    threads[f'{model.targetKey}.explorer'] = threading.Thread(target=explorer, args=[model], daemon=True)"
   ]
  },
  {
   "cell_type": "code",
   "execution_count": null,
   "id": "11e32308",
   "metadata": {},
   "outputs": [],
   "source": [
    "for thread in threads.values():\n",
    "    thread.start()\n",
    "\n",
    "print('started all threads')"
   ]
  },
  {
   "cell_type": "code",
   "execution_count": null,
   "id": "7f00f0d3",
   "metadata": {},
   "outputs": [],
   "source": [
    "while threading.active_count() > 0:\n",
    "    time.sleep(0)"
   ]
  },
  {
   "cell_type": "code",
   "execution_count": null,
   "id": "b13a42e8",
   "metadata": {},
   "outputs": [],
   "source": []
  }
 ],
 "metadata": {
  "kernelspec": {
   "display_name": "Python 3",
   "language": "python",
   "name": "python3"
  },
  "language_info": {
   "codemirror_mode": {
    "name": "ipython",
    "version": 3
   },
   "file_extension": ".py",
   "mimetype": "text/x-python",
   "name": "python",
   "nbconvert_exporter": "python",
   "pygments_lexer": "ipython3",
   "version": "3.9.5"
  }
 },
 "nbformat": 4,
 "nbformat_minor": 5
}
